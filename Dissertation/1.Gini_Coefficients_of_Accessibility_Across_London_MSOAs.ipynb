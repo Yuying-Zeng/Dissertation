{
 "cells": [
  {
   "cell_type": "markdown",
   "id": "7053a3d7-0d29-42f4-9f75-d98b85d2852b",
   "metadata": {},
   "source": [
    "## 1.Gini index of accessibility"
   ]
  },
  {
   "cell_type": "markdown",
   "id": "280bdd7a-b350-4bfa-bd0f-d1cb3e11a117",
   "metadata": {},
   "source": [
    "### 1.1 Merging datasets"
   ]
  },
  {
   "cell_type": "code",
   "execution_count": 1,
   "id": "716bce46-e715-45a6-beb9-de27aa46fe72",
   "metadata": {},
   "outputs": [],
   "source": [
    "import pandas as pd\n",
    "import numpy as np\n",
    "import matplotlib.pyplot as plt\n",
    "import seaborn as sns\n",
    "import geopandas as gpd\n",
    "import matplotlib.patches as mpatches\n",
    "from matplotlib.colors import Normalize\n",
    "from matplotlib import cm"
   ]
  },
  {
   "cell_type": "code",
   "execution_count": 2,
   "id": "0d82c34c-c04b-478a-a5ad-fc5f851d5cb2",
   "metadata": {},
   "outputs": [],
   "source": [
    "# Load the datasets\n",
    "hospital_data = pd.read_csv(\"hospital_sum.csv\")\n",
    "pub_data = pd.read_csv(\"pub_sum.csv\")\n",
    "traffichub_data = pd.read_csv(\"traffichub_sum.csv\")\n",
    "workplace_data = pd.read_csv(\"workplace_sum.csv\")"
   ]
  },
  {
   "cell_type": "code",
   "execution_count": 3,
   "id": "305f9226-eee8-4a7b-9b7a-33558117d42a",
   "metadata": {},
   "outputs": [],
   "source": [
    "# Merge the datasets based on the 'category' column (MSOA code)\n",
    "merged_data = hospital_data.merge(pub_data, on=\"category\", suffixes=(\"_hospital\", \"_pub\"))\n",
    "merged_data = merged_data.merge(traffichub_data, on=\"category\", suffixes=(\"\", \"_traffichub\"))\n",
    "merged_data = merged_data.merge(workplace_data, on=\"category\", suffixes=(\"_traffichub\", \"_workplace\"))"
   ]
  },
  {
   "cell_type": "code",
   "execution_count": 4,
   "id": "64e286f3-3089-4daf-8aea-ca5f3e64e9d3",
   "metadata": {},
   "outputs": [],
   "source": [
    "# Keeping only the columns we need\n",
    "merged_data = merged_data[['category', 'mean_hospital', 'mean_pub', 'mean_traffichub', 'mean_workplace']]"
   ]
  },
  {
   "cell_type": "code",
   "execution_count": 5,
   "id": "5d47563a-3c3a-48e7-8bb8-8b796f55d9a9",
   "metadata": {},
   "outputs": [
    {
     "data": {
      "text/html": [
       "<div>\n",
       "<style scoped>\n",
       "    .dataframe tbody tr th:only-of-type {\n",
       "        vertical-align: middle;\n",
       "    }\n",
       "\n",
       "    .dataframe tbody tr th {\n",
       "        vertical-align: top;\n",
       "    }\n",
       "\n",
       "    .dataframe thead th {\n",
       "        text-align: right;\n",
       "    }\n",
       "</style>\n",
       "<table border=\"1\" class=\"dataframe\">\n",
       "  <thead>\n",
       "    <tr style=\"text-align: right;\">\n",
       "      <th></th>\n",
       "      <th>category</th>\n",
       "      <th>mean_hospital</th>\n",
       "      <th>mean_pub</th>\n",
       "      <th>mean_traffichub</th>\n",
       "      <th>mean_workplace</th>\n",
       "    </tr>\n",
       "  </thead>\n",
       "  <tbody>\n",
       "    <tr>\n",
       "      <th>0</th>\n",
       "      <td>E02000746</td>\n",
       "      <td>0.0</td>\n",
       "      <td>12.33</td>\n",
       "      <td>11.00</td>\n",
       "      <td>0.00</td>\n",
       "    </tr>\n",
       "    <tr>\n",
       "      <th>1</th>\n",
       "      <td>E02000887</td>\n",
       "      <td>1.0</td>\n",
       "      <td>265.75</td>\n",
       "      <td>29.50</td>\n",
       "      <td>4.50</td>\n",
       "    </tr>\n",
       "    <tr>\n",
       "      <th>2</th>\n",
       "      <td>E02000741</td>\n",
       "      <td>1.0</td>\n",
       "      <td>80.00</td>\n",
       "      <td>17.57</td>\n",
       "      <td>0.57</td>\n",
       "    </tr>\n",
       "    <tr>\n",
       "      <th>3</th>\n",
       "      <td>E02000215</td>\n",
       "      <td>0.5</td>\n",
       "      <td>61.50</td>\n",
       "      <td>6.00</td>\n",
       "      <td>0.00</td>\n",
       "    </tr>\n",
       "    <tr>\n",
       "      <th>4</th>\n",
       "      <td>E02000132</td>\n",
       "      <td>0.0</td>\n",
       "      <td>8.00</td>\n",
       "      <td>4.00</td>\n",
       "      <td>0.00</td>\n",
       "    </tr>\n",
       "  </tbody>\n",
       "</table>\n",
       "</div>"
      ],
      "text/plain": [
       "    category  mean_hospital  mean_pub  mean_traffichub  mean_workplace\n",
       "0  E02000746            0.0     12.33            11.00            0.00\n",
       "1  E02000887            1.0    265.75            29.50            4.50\n",
       "2  E02000741            1.0     80.00            17.57            0.57\n",
       "3  E02000215            0.5     61.50             6.00            0.00\n",
       "4  E02000132            0.0      8.00             4.00            0.00"
      ]
     },
     "execution_count": 5,
     "metadata": {},
     "output_type": "execute_result"
    }
   ],
   "source": [
    "merged_data.head()"
   ]
  },
  {
   "cell_type": "markdown",
   "id": "a1ba4b85-fc91-4521-b564-1d9b524ecbd2",
   "metadata": {},
   "source": [
    "### 1.2Calculation of the Gini index for the four categories in each MSOA"
   ]
  },
  {
   "cell_type": "code",
   "execution_count": 6,
   "id": "57c4e65a-efb5-4e72-af03-5b61321e42fe",
   "metadata": {},
   "outputs": [],
   "source": [
    "def gini_coefficient(x):\n",
    "    \"\"\"Compute the Gini coefficient of an array of values\"\"\"\n",
    "    n = len(x)\n",
    "    s = x.sum()\n",
    "    r = np.argsort(np.argsort(-x))  # Calculates rank\n",
    "    return 1 - (2 * (r * x).sum() + s) / (n * s)\n"
   ]
  },
  {
   "cell_type": "code",
   "execution_count": 7,
   "id": "ee25cf0b-db1d-434f-84a0-0eebf27ae062",
   "metadata": {},
   "outputs": [],
   "source": [
    "# Compute the Gini coefficient for each MSOA based on mean accessibility values\n",
    "merged_data['gini'] = merged_data[['mean_hospital', 'mean_pub', 'mean_traffichub', 'mean_workplace']].apply(gini_coefficient, axis=1)"
   ]
  },
  {
   "cell_type": "code",
   "execution_count": 8,
   "id": "0cb0cafe-08e2-4b80-9b17-2202788cf1af",
   "metadata": {},
   "outputs": [
    {
     "data": {
      "text/html": [
       "<div>\n",
       "<style scoped>\n",
       "    .dataframe tbody tr th:only-of-type {\n",
       "        vertical-align: middle;\n",
       "    }\n",
       "\n",
       "    .dataframe tbody tr th {\n",
       "        vertical-align: top;\n",
       "    }\n",
       "\n",
       "    .dataframe thead th {\n",
       "        text-align: right;\n",
       "    }\n",
       "</style>\n",
       "<table border=\"1\" class=\"dataframe\">\n",
       "  <thead>\n",
       "    <tr style=\"text-align: right;\">\n",
       "      <th></th>\n",
       "      <th>category</th>\n",
       "      <th>mean_hospital</th>\n",
       "      <th>mean_pub</th>\n",
       "      <th>mean_traffichub</th>\n",
       "      <th>mean_workplace</th>\n",
       "      <th>gini</th>\n",
       "    </tr>\n",
       "  </thead>\n",
       "  <tbody>\n",
       "    <tr>\n",
       "      <th>0</th>\n",
       "      <td>E02000746</td>\n",
       "      <td>0.0</td>\n",
       "      <td>12.33</td>\n",
       "      <td>11.00</td>\n",
       "      <td>0.00</td>\n",
       "      <td>0.514252</td>\n",
       "    </tr>\n",
       "    <tr>\n",
       "      <th>1</th>\n",
       "      <td>E02000887</td>\n",
       "      <td>1.0</td>\n",
       "      <td>265.75</td>\n",
       "      <td>29.50</td>\n",
       "      <td>4.50</td>\n",
       "      <td>0.681006</td>\n",
       "    </tr>\n",
       "    <tr>\n",
       "      <th>2</th>\n",
       "      <td>E02000741</td>\n",
       "      <td>1.0</td>\n",
       "      <td>80.00</td>\n",
       "      <td>17.57</td>\n",
       "      <td>0.57</td>\n",
       "      <td>0.642677</td>\n",
       "    </tr>\n",
       "    <tr>\n",
       "      <th>3</th>\n",
       "      <td>E02000215</td>\n",
       "      <td>0.5</td>\n",
       "      <td>61.50</td>\n",
       "      <td>6.00</td>\n",
       "      <td>0.00</td>\n",
       "      <td>0.698529</td>\n",
       "    </tr>\n",
       "    <tr>\n",
       "      <th>4</th>\n",
       "      <td>E02000132</td>\n",
       "      <td>0.0</td>\n",
       "      <td>8.00</td>\n",
       "      <td>4.00</td>\n",
       "      <td>0.00</td>\n",
       "      <td>0.583333</td>\n",
       "    </tr>\n",
       "  </tbody>\n",
       "</table>\n",
       "</div>"
      ],
      "text/plain": [
       "    category  mean_hospital  mean_pub  mean_traffichub  mean_workplace  \\\n",
       "0  E02000746            0.0     12.33            11.00            0.00   \n",
       "1  E02000887            1.0    265.75            29.50            4.50   \n",
       "2  E02000741            1.0     80.00            17.57            0.57   \n",
       "3  E02000215            0.5     61.50             6.00            0.00   \n",
       "4  E02000132            0.0      8.00             4.00            0.00   \n",
       "\n",
       "       gini  \n",
       "0  0.514252  \n",
       "1  0.681006  \n",
       "2  0.642677  \n",
       "3  0.698529  \n",
       "4  0.583333  "
      ]
     },
     "execution_count": 8,
     "metadata": {},
     "output_type": "execute_result"
    }
   ],
   "source": [
    "merged_data.head()"
   ]
  },
  {
   "cell_type": "markdown",
   "id": "7f71594f-9113-4157-893a-5bbb98cfabaa",
   "metadata": {},
   "source": [
    "### 1.3Data visualisation"
   ]
  },
  {
   "cell_type": "code",
   "execution_count": 9,
   "id": "e7a1d74d-5e8a-418e-bd09-5ec48e2f7484",
   "metadata": {},
   "outputs": [],
   "source": [
    "# Set the style for seaborn plots\n",
    "sns.set_style(\"whitegrid\")"
   ]
  },
  {
   "cell_type": "code",
   "execution_count": 10,
   "id": "39709fcd-e024-4077-b547-c880034fffe0",
   "metadata": {},
   "outputs": [
    {
     "data": {
      "image/png": "[encoded data removed]",
      "text/plain": [
       "<Figure size 864x432 with 1 Axes>"
      ]
     },
     "metadata": {
      "needs_background": "light"
     },
     "output_type": "display_data"
    }
   ],
   "source": [
    "# Plot the distribution of Gini coefficients\n",
    "plt.figure(figsize=(12, 6))\n",
    "sns.histplot(merged_data['gini'], kde=True, bins=30, color='dodgerblue')\n",
    "plt.title('Distribution of Gini Coefficients Across MSOAs')\n",
    "plt.xlabel('Gini Coefficient')\n",
    "plt.ylabel('Number of MSOAs')\n",
    "plt.tight_layout()\n",
    "plt.show()"
   ]
  },
  {
   "cell_type": "code",
   "execution_count": 11,
   "id": "159b3839-80d2-475c-943e-b0564064337e",
   "metadata": {},
   "outputs": [],
   "source": [
    "# Load the shapefile data\n",
    "msoa_shapefile = gpd.read_file(\"MSOA_2011_London_gen_MHW.shp\")"
   ]
  },
  {
   "cell_type": "code",
   "execution_count": 12,
   "id": "df7b68b4-3136-4289-961a-a851f6b18997",
   "metadata": {},
   "outputs": [
    {
     "data": {
      "text/html": [
       "<div>\n",
       "<style scoped>\n",
       "    .dataframe tbody tr th:only-of-type {\n",
       "        vertical-align: middle;\n",
       "    }\n",
       "\n",
       "    .dataframe tbody tr th {\n",
       "        vertical-align: top;\n",
       "    }\n",
       "\n",
       "    .dataframe thead th {\n",
       "        text-align: right;\n",
       "    }\n",
       "</style>\n",
       "<table border=\"1\" class=\"dataframe\">\n",
       "  <thead>\n",
       "    <tr style=\"text-align: right;\">\n",
       "      <th></th>\n",
       "      <th>MSOA11CD</th>\n",
       "      <th>MSOA11NM</th>\n",
       "      <th>LAD11CD</th>\n",
       "      <th>LAD11NM</th>\n",
       "      <th>RGN11CD</th>\n",
       "      <th>RGN11NM</th>\n",
       "      <th>USUALRES</th>\n",
       "      <th>HHOLDRES</th>\n",
       "      <th>COMESTRES</th>\n",
       "      <th>POPDEN</th>\n",
       "      <th>HHOLDS</th>\n",
       "      <th>AVHHOLDSZ</th>\n",
       "      <th>geometry</th>\n",
       "    </tr>\n",
       "  </thead>\n",
       "  <tbody>\n",
       "    <tr>\n",
       "      <th>0</th>\n",
       "      <td>E02000001</td>\n",
       "      <td>City of London 001</td>\n",
       "      <td>E09000001</td>\n",
       "      <td>City of London</td>\n",
       "      <td>E12000007</td>\n",
       "      <td>London</td>\n",
       "      <td>7375</td>\n",
       "      <td>7187</td>\n",
       "      <td>188</td>\n",
       "      <td>25.5</td>\n",
       "      <td>4385</td>\n",
       "      <td>1.6</td>\n",
       "      <td>MULTIPOLYGON (((531667.624 180534.992, 531647....</td>\n",
       "    </tr>\n",
       "    <tr>\n",
       "      <th>1</th>\n",
       "      <td>E02000002</td>\n",
       "      <td>Barking and Dagenham 001</td>\n",
       "      <td>E09000002</td>\n",
       "      <td>Barking and Dagenham</td>\n",
       "      <td>E12000007</td>\n",
       "      <td>London</td>\n",
       "      <td>6775</td>\n",
       "      <td>6724</td>\n",
       "      <td>51</td>\n",
       "      <td>31.3</td>\n",
       "      <td>2713</td>\n",
       "      <td>2.5</td>\n",
       "      <td>POLYGON ((548881.563 190845.265, 548881.125 19...</td>\n",
       "    </tr>\n",
       "    <tr>\n",
       "      <th>2</th>\n",
       "      <td>E02000003</td>\n",
       "      <td>Barking and Dagenham 002</td>\n",
       "      <td>E09000002</td>\n",
       "      <td>Barking and Dagenham</td>\n",
       "      <td>E12000007</td>\n",
       "      <td>London</td>\n",
       "      <td>10045</td>\n",
       "      <td>10033</td>\n",
       "      <td>12</td>\n",
       "      <td>46.9</td>\n",
       "      <td>3834</td>\n",
       "      <td>2.6</td>\n",
       "      <td>POLYGON ((549102.438 189324.625, 548954.500 18...</td>\n",
       "    </tr>\n",
       "    <tr>\n",
       "      <th>3</th>\n",
       "      <td>E02000004</td>\n",
       "      <td>Barking and Dagenham 003</td>\n",
       "      <td>E09000002</td>\n",
       "      <td>Barking and Dagenham</td>\n",
       "      <td>E12000007</td>\n",
       "      <td>London</td>\n",
       "      <td>6182</td>\n",
       "      <td>5937</td>\n",
       "      <td>245</td>\n",
       "      <td>24.8</td>\n",
       "      <td>2318</td>\n",
       "      <td>2.6</td>\n",
       "      <td>POLYGON ((551549.998 187364.637, 551478.000 18...</td>\n",
       "    </tr>\n",
       "    <tr>\n",
       "      <th>4</th>\n",
       "      <td>E02000005</td>\n",
       "      <td>Barking and Dagenham 004</td>\n",
       "      <td>E09000002</td>\n",
       "      <td>Barking and Dagenham</td>\n",
       "      <td>E12000007</td>\n",
       "      <td>London</td>\n",
       "      <td>8562</td>\n",
       "      <td>8562</td>\n",
       "      <td>0</td>\n",
       "      <td>72.1</td>\n",
       "      <td>3183</td>\n",
       "      <td>2.7</td>\n",
       "      <td>POLYGON ((549099.634 187656.076, 549161.375 18...</td>\n",
       "    </tr>\n",
       "  </tbody>\n",
       "</table>\n",
       "</div>"
      ],
      "text/plain": [
       "    MSOA11CD                  MSOA11NM    LAD11CD               LAD11NM  \\\n",
       "0  E02000001        City of London 001  E09000001        City of London   \n",
       "1  E02000002  Barking and Dagenham 001  E09000002  Barking and Dagenham   \n",
       "2  E02000003  Barking and Dagenham 002  E09000002  Barking and Dagenham   \n",
       "3  E02000004  Barking and Dagenham 003  E09000002  Barking and Dagenham   \n",
       "4  E02000005  Barking and Dagenham 004  E09000002  Barking and Dagenham   \n",
       "\n",
       "     RGN11CD RGN11NM  USUALRES  HHOLDRES  COMESTRES  POPDEN  HHOLDS  \\\n",
       "0  E12000007  London      7375      7187        188    25.5    4385   \n",
       "1  E12000007  London      6775      6724         51    31.3    2713   \n",
       "2  E12000007  London     10045     10033         12    46.9    3834   \n",
       "3  E12000007  London      6182      5937        245    24.8    2318   \n",
       "4  E12000007  London      8562      8562          0    72.1    3183   \n",
       "\n",
       "   AVHHOLDSZ                                           geometry  \n",
       "0        1.6  MULTIPOLYGON (((531667.624 180534.992, 531647....  \n",
       "1        2.5  POLYGON ((548881.563 190845.265, 548881.125 19...  \n",
       "2        2.6  POLYGON ((549102.438 189324.625, 548954.500 18...  \n",
       "3        2.6  POLYGON ((551549.998 187364.637, 551478.000 18...  \n",
       "4        2.7  POLYGON ((549099.634 187656.076, 549161.375 18...  "
      ]
     },
     "execution_count": 12,
     "metadata": {},
     "output_type": "execute_result"
    }
   ],
   "source": [
    "# Display the first few rows of the shapefile data\n",
    "msoa_shapefile.head()"
   ]
  },
  {
   "cell_type": "code",
   "execution_count": 13,
   "id": "0ff6e092-8e0b-475e-9afc-2d541315020d",
   "metadata": {},
   "outputs": [],
   "source": [
    "import matplotlib.pyplot as plt"
   ]
  },
  {
   "cell_type": "code",
   "execution_count": 14,
   "id": "c05ed83c-2dfe-4021-976e-c36a943e243a",
   "metadata": {},
   "outputs": [],
   "source": [
    "# Merge the shapefile data with our merged_data based on MSOA code\n",
    "merged_map_data = msoa_shapefile.merge(merged_data, left_on=\"MSOA11CD\", right_on=\"category\")"
   ]
  },
  {
   "cell_type": "code",
   "execution_count": 15,
   "id": "dc857794-0d8f-4718-a6a8-59e29d7f4d08",
   "metadata": {},
   "outputs": [],
   "source": [
    "# Sorting the merged_map_data by the 'gini' column in descending order and taking the top 20 rows\n",
    "top_20_gini_from_merged_map = merged_map_data.sort_values(by='gini', ascending=False).head(20)"
   ]
  },
  {
   "cell_type": "code",
   "execution_count": 16,
   "id": "b8f367ad-ed0b-48a0-8d7d-d0bc3e12c009",
   "metadata": {},
   "outputs": [
    {
     "data": {
      "image/png": "[encoded data removed]",
      "text/plain": [
       "<Figure size 360x360 with 1 Axes>"
      ]
     },
     "metadata": {
      "needs_background": "light"
     },
     "output_type": "display_data"
    }
   ],
   "source": [
    "# Plotting the table\n",
    "fig, ax = plt.subplots(1,1, figsize=(5, 5))\n",
    "ax.axis('tight')\n",
    "ax.axis('off')\n",
    "ax.table(cellText=top_20_gini_from_merged_map[['MSOA11NM', 'gini']].values, \n",
    "         colLabels=['MSOA11CD', 'gini'], \n",
    "         cellLoc='center', loc='center',\n",
    "         colWidths=[0.5, 0.5])  # Adjusting the column widths\n",
    "plt.title(\"Top 20 MSOA Regions by Gini Coefficient\")\n",
    "plt.show()"
   ]
  },
  {
   "cell_type": "code",
   "execution_count": null,
   "id": "026f22e0-7f6b-4631-b210-c05b2cc0a03f",
   "metadata": {},
   "outputs": [],
   "source": []
  }
 ],
 "metadata": {
  "kernelspec": {
   "display_name": "Python 3 (ipykernel)",
   "language": "python",
   "name": "python3"
  },
  "language_info": {
   "codemirror_mode": {
    "name": "ipython",
    "version": 3
   },
   "file_extension": ".py",
   "mimetype": "text/x-python",
   "name": "python",
   "nbconvert_exporter": "python",
   "pygments_lexer": "ipython3",
   "version": "3.10.5"
  }
 },
 "nbformat": 4,
 "nbformat_minor": 5
}
